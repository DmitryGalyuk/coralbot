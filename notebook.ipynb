{
 "cells": [
  {
   "cell_type": "code",
   "execution_count": 18,
   "metadata": {},
   "outputs": [],
   "source": [
    "from pyspark.sql import SparkSession\n",
    "from pyspark.sql.functions import *\n",
    "from pyspark.sql.types import StructType, StringType, IntegerType, FloatType\n",
    "from pyspark.sql.window import Window\n",
    "\n",
    "# Create a SparkSession\n",
    "spark = SparkSession.builder \\\n",
    ".appName(\"ReadExcelWithHeader\") \\\n",
    ".config(\"spark.jars.packages\", \"com.crealytics:spark-excel_2.12:0.13.5\") \\\n",
    ".getOrCreate()\n",
    "\n",
    "excel_file_path = \"sampleCur.xlsx\""
   ]
  },
  {
   "cell_type": "code",
   "execution_count": 22,
   "metadata": {},
   "outputs": [
    {
     "name": "stdout",
     "output_type": "stream",
     "text": [
      "+----+---------------------+----------------------------------+--------------------+------------------------------+----+---+--------------------+-----+----------------------------+------------------------------------------------+------------------+\n",
      "|   #|Number of Generations|Club Member (First name/Last name)|                 _c3|CNV (Cumulated Network Volume)|Rank|  P|PV (Personal Volume)|  PVG|MCR (Maximum Confirmed Rank)|Number of months with zero Volume Points accrued|Club Member Status|\n",
      "+----+---------------------+----------------------------------+--------------------+------------------------------+----+---+--------------------+-----+----------------------------+------------------------------------------------+------------------+\n",
      "| 1.0|                  .0 |                         6111685.0|         Галюк Елена|                         > 500|   E|   |                 100|  230|                         E/1|                                                |                  |\n",
      "| 2.0|                  .1 |                         6190205.0|       Галюк Дмитрий|                         > 500|   D|   |                    |     |                       SD/28|                                               1|                 m|\n",
      "| 3.0|                  .2 |                         6202838.0| Tabolich Anastasiya|                         > 500|  PM|   |                    |     |                            |                                              12|                 m|\n",
      "| 4.0|                  .2 |                         6866923.0|Фалавандишвили Натия|                         > 500|  PM|   |                    |    7|                        D/28|                                               7|                 m|\n",
      "| 5.0|                  .3 |                         6959087.0|    Мурванидзе Луиза|                         > 500|  PM|   |                   7|     |                            |                                                |                 m|\n",
      "| 6.0|                  .4 |                         7309266.0|  Murvanidze Violeta|                         135.5|    |   |                    |     |                            |                                               3|                 m|\n",
      "| 7.0|                  .3 |                         7575828.0|Фалавандишвили Ти...|                            35|    |   |                    |     |                            |                                               7|                 m|\n",
      "| 8.0|                  .2 |                         7688719.0|       Konidala Anna|                         > 500|  PM|   |                    |     |                         D/4|                                               1|                 m|\n",
      "| 9.0|                  .2 |                         7791032.0|Shaposhnikov Mikhail|                              |    |   |                    |     |                            |                                               2|              c/60|\n",
      "|10.0|                  .2 |                         7805120.0|Галюк Елена Никол...|                              |    |   |                    |     |                            |                                               1|              c/49|\n",
      "|11.0|                  .2 |                         7834868.0|Malyshava Katsiaryna|                            29|   M|   |                    |     |                            |                                               1|                 m|\n",
      "|12.0|                  .1 |                         6190820.0|         Синица Тома|                         > 500|  PM|   |                21.5| 21.5|                        D/69|                                                |                 m|\n",
      "|13.0|                  .1 |                         6203900.0|          Галюк Варя|                         > 500|   A|   |                43.5|102.5|                         D/3|                                                |                  |\n",
      "|14.0|                  .2 |                         6556807.0|Шидловская Анджел...|                         > 500|  PM|   |                  11|     |                            |                                                |                 m|\n",
      "|15.0|                  .3 |                         6673758.0|      Вабищевич Анна|                         > 500|  PM|   |                    |     |                            |                                               2|                 m|\n",
      "|16.0|                  .4 |                         6684011.0|      Дедович Тамара|                         438.5|    |   |                    |     |                            |                                               5|                 m|\n",
      "|17.0|                  .4 |                         6782839.0|Вабищевич Владими...|                           221|   M|   |                    |     |                            |                                               1|                 m|\n",
      "|18.0|                  .4 |                         6801396.0|Вабищевич Миросла...|                         225.1|    |   |                    |     |                            |                                               7|                 m|\n",
      "|19.0|                  .4 |                         6842229.0|Будник Светлана А...|                         271.4|    |   |                    |     |                            |                                               6|                 m|\n",
      "|20.0|                  .4 |                         7254343.0| Федосенко Екатерина|                         133.5|    |   |                    |     |                            |                                               4|                 m|\n",
      "+----+---------------------+----------------------------------+--------------------+------------------------------+----+---+--------------------+-----+----------------------------+------------------------------------------------+------------------+\n",
      "only showing top 20 rows\n",
      "\n"
     ]
    }
   ],
   "source": [
    "df = spark.read \\\n",
    ".format(\"com.crealytics.spark.excel\") \\\n",
    ".option(\"header\", \"true\") \\\n",
    ".option(\"inferSchema\", \"true\") \\\n",
    ".option(\"dataAddress\", \"'0'!A7\") \\\n",
    ".load(excel_file_path)\n",
    "\n",
    "# Show the DataFrame\n",
    "df.show()"
   ]
  },
  {
   "cell_type": "code",
   "execution_count": 57,
   "metadata": {},
   "outputs": [
    {
     "name": "stdout",
     "output_type": "stream",
     "text": [
      "+---+-------+--------------------+-----+----+-------+--------+-----+-------+----------+------+\n",
      "|gen|     Id|                Name|  cnv|Rank|Pending|Personal|Group|maxrank|zeroMonths|status|\n",
      "+---+-------+--------------------+-----+----+-------+--------+-----+-------+----------+------+\n",
      "|  0|6111685|         Галюк Елена|> 500|   E|       |     100|  230|    E/1|          |      |\n",
      "|  1|6190205|       Галюк Дмитрий|> 500|   D|       |        |     |  SD/28|         1|     m|\n",
      "|  2|6202838| Tabolich Anastasiya|> 500|  PM|       |        |     |       |        12|     m|\n",
      "|  2|6866923|Фалавандишвили Натия|> 500|  PM|       |        |    7|   D/28|         7|     m|\n",
      "|  3|6959087|    Мурванидзе Луиза|> 500|  PM|       |       7|     |       |          |     m|\n",
      "|  4|7309266|  Murvanidze Violeta|135.5|    |       |        |     |       |         3|     m|\n",
      "|  3|7575828|Фалавандишвили Ти...|   35|    |       |        |     |       |         7|     m|\n",
      "|  2|7688719|       Konidala Anna|> 500|  PM|       |        |     |    D/4|         1|     m|\n",
      "|  2|7791032|Shaposhnikov Mikhail|     |    |       |        |     |       |         2|  c/60|\n",
      "|  2|7805120|Галюк Елена Никол...|     |    |       |        |     |       |         1|  c/49|\n",
      "|  2|7834868|Malyshava Katsiaryna|   29|   M|       |        |     |       |         1|     m|\n",
      "|  1|6190820|         Синица Тома|> 500|  PM|       |    21.5| 21.5|   D/69|          |     m|\n",
      "|  1|6203900|          Галюк Варя|> 500|   A|       |    43.5|102.5|    D/3|          |      |\n",
      "|  2|6556807|Шидловская Анджел...|> 500|  PM|       |      11|     |       |          |     m|\n",
      "|  3|6673758|      Вабищевич Анна|> 500|  PM|       |        |     |       |         2|     m|\n",
      "|  4|6684011|      Дедович Тамара|438.5|    |       |        |     |       |         5|     m|\n",
      "|  4|6782839|Вабищевич Владими...|  221|   M|       |        |     |       |         1|     m|\n",
      "|  4|6801396|Вабищевич Миросла...|225.1|    |       |        |     |       |         7|     m|\n",
      "|  4|6842229|Будник Светлана А...|271.4|    |       |        |     |       |         6|     m|\n",
      "|  4|7254343| Федосенко Екатерина|133.5|    |       |        |     |       |         4|     m|\n",
      "+---+-------+--------------------+-----+----+-------+--------+-----+-------+----------+------+\n",
      "only showing top 20 rows\n",
      "\n"
     ]
    }
   ],
   "source": [
    "from pyspark.sql import functions as F\n",
    "\n",
    "@udf(returnType=IntegerType())\n",
    "def parseGen(dotted: str) -> int:\n",
    "    return int(dotted.split(\".\")[-1])\n",
    "\n",
    "excel2Field = {}\n",
    "excel2Field[\"#\"] = \"rownum\"\n",
    "excel2Field[\"Number of Generations\"] = \"gen\"\n",
    "excel2Field[\"Club Member (First name/Last name)\"] = \"Id\"\n",
    "excel2Field[\"_c3\"] = \"Name\"\n",
    "excel2Field[\"CNV (Cumulated Network Volume)\"] = \"cnv\"\n",
    "excel2Field[\"Rank\"] = \"Rank\"\n",
    "excel2Field[\"P\"] = \"Pending\"\n",
    "excel2Field[\"PV (Personal Volume)\"] = \"Personal\"\n",
    "excel2Field[\"PVG\"] = \"Group\"\n",
    "excel2Field[\"MCR (Maximum Confirmed Rank)\"] = \"maxrank\"\n",
    "excel2Field[\"Number of months with zero Volume Points accrued\"] = \"zeroMonths\"\n",
    "excel2Field[\"Club Member Status\"] = \"status\"\n",
    "\n",
    "df_remapColumns = df.withColumnsRenamed(excel2Field)\n",
    "df_dropRownum = df_remapColumns.drop(df_remapColumns.rownum)\n",
    "df_recastId = df_dropRownum.withColumn(\"Id\", df_dropRownum.Id.cast(IntegerType()))\n",
    "\n",
    "df_digitizeGen = df_recastId.withColumn(\"gen\", parseGen(df_recastId.gen))\n",
    "\n",
    "df_digitizeGen.show()\n"
   ]
  },
  {
   "cell_type": "code",
   "execution_count": 62,
   "metadata": {},
   "outputs": [
    {
     "name": "stdout",
     "output_type": "stream",
     "text": [
      "+---+-------+--------------------+-----+----+-------+--------+-----+-------+----------+------+--------+\n",
      "|gen|     Id|                Name|  cnv|Rank|Pending|Personal|Group|maxrank|zeroMonths|status|ParentId|\n",
      "+---+-------+--------------------+-----+----+-------+--------+-----+-------+----------+------+--------+\n",
      "|  0|6111685|         Галюк Елена|> 500|   E|       |     100|  230|    E/1|          |      |    NULL|\n",
      "|  1|6190205|       Галюк Дмитрий|> 500|   D|       |        |     |  SD/28|         1|     m| 6111685|\n",
      "|  2|6202838| Tabolich Anastasiya|> 500|  PM|       |        |     |       |        12|     m| 6190205|\n",
      "|  2|6866923|Фалавандишвили Натия|> 500|  PM|       |        |    7|   D/28|         7|     m| 6190205|\n",
      "|  3|6959087|    Мурванидзе Луиза|> 500|  PM|       |       7|     |       |          |     m| 6866923|\n",
      "|  4|7309266|  Murvanidze Violeta|135.5|    |       |        |     |       |         3|     m| 6959087|\n",
      "|  3|7575828|Фалавандишвили Ти...|   35|    |       |        |     |       |         7|     m| 6866923|\n",
      "|  2|7688719|       Konidala Anna|> 500|  PM|       |        |     |    D/4|         1|     m| 6190205|\n",
      "|  2|7791032|Shaposhnikov Mikhail|     |    |       |        |     |       |         2|  c/60| 6190205|\n",
      "|  2|7805120|Галюк Елена Никол...|     |    |       |        |     |       |         1|  c/49| 6190205|\n",
      "|  2|7834868|Malyshava Katsiaryna|   29|   M|       |        |     |       |         1|     m| 6190205|\n",
      "|  1|6190820|         Синица Тома|> 500|  PM|       |    21.5| 21.5|   D/69|          |     m| 6111685|\n",
      "|  1|6203900|          Галюк Варя|> 500|   A|       |    43.5|102.5|    D/3|          |      | 6111685|\n",
      "|  2|6556807|Шидловская Анджел...|> 500|  PM|       |      11|     |       |          |     m| 6203900|\n",
      "|  3|6673758|      Вабищевич Анна|> 500|  PM|       |        |     |       |         2|     m| 6556807|\n",
      "|  4|6684011|      Дедович Тамара|438.5|    |       |        |     |       |         5|     m| 6673758|\n",
      "|  4|6782839|Вабищевич Владими...|  221|   M|       |        |     |       |         1|     m| 6673758|\n",
      "|  4|6801396|Вабищевич Миросла...|225.1|    |       |        |     |       |         7|     m| 6673758|\n",
      "|  4|6842229|Будник Светлана А...|271.4|    |       |        |     |       |         6|     m| 6673758|\n",
      "|  4|7254343| Федосенко Екатерина|133.5|    |       |        |     |       |         4|     m| 6673758|\n",
      "+---+-------+--------------------+-----+----+-------+--------+-----+-------+----------+------+--------+\n",
      "only showing top 20 rows\n",
      "\n"
     ]
    }
   ],
   "source": [
    "levelId = {}\n",
    "@udf(returnType=IntegerType())\n",
    "def id_gen_2_parent(id, gen):\n",
    "    levelId[gen] = id\n",
    "    return levelId[gen-1] if gen > 0 else None\n",
    "\n",
    "df_withParent: DataFrame = df_digitizeGen.withColumn(\"ParentId\", id_gen_2_parent(df_digitizeGen.Id, df_digitizeGen.gen))\n",
    "df_withParent.show()"
   ]
  }
 ],
 "metadata": {
  "kernelspec": {
   "display_name": "Python 3",
   "language": "python",
   "name": "python3"
  },
  "language_info": {
   "codemirror_mode": {
    "name": "ipython",
    "version": 3
   },
   "file_extension": ".py",
   "mimetype": "text/x-python",
   "name": "python",
   "nbconvert_exporter": "python",
   "pygments_lexer": "ipython3",
   "version": "3.11.7"
  }
 },
 "nbformat": 4,
 "nbformat_minor": 2
}
